### Vorüberlegungen


# 1. Aufnahme und Analyse eines Grauwertkeiles

## Belichtungsparameter notieren
## Entfernung zwischen Kamera und Testbild notieren.
## Das Bild als .png abspeichern mit Befehl ``cv2.imwrite()`` (.jpeg ist verlustbehaftet)
## Webcam liefert nur Farbbilder, deshalb mit ```cv.cvtColor()``` in Grauwertbild umwandeln
##


// Methode welche aus dem Grauwertkeil, 5 Teilbilder macht mit jeweils der Graustufe
def sliceImg(img, whiteImg, filename):
    divImg = np.zeros(shape=(len(img), len(img[0])))

    for i in range(len(img)):
        for j in range(len(img[0])):
            if whiteImg[i][j] > 0:
                divImg[i][j] = float(img[i][j]) / float(whiteImg[i][j])
            else:
                print("Deadpixel x/y: {}/{}".format(j, i))
                divImg[i][j] = float(img[i][j])

    cv2.imwrite('{}.png'.format(filename), divImg)
    print("{}.png gespeichert".format(filename))
    return divImg


# 2. Aufnahme eines Dunkelbildes

## 10 Aufnahmen mit abgedecktem Objekiv machen


# 3. Aufnahme eines Weißbildes

# 4. Pixelfehler



