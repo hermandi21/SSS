{
 "cells": [
  {
   "cell_type": "code",
   "execution_count": 5,
   "outputs": [],
   "source": [
    "import cv2\n",
    "import numpy\n",
    "import numpy as np"
   ],
   "metadata": {
    "collapsed": false
   }
  },
  {
   "cell_type": "code",
   "execution_count": 6,
   "outputs": [
    {
     "ename": "IndentationError",
     "evalue": "expected an indented block after 'if' statement on line 6 (2004184017.py, line 9)",
     "output_type": "error",
     "traceback": [
      "\u001B[1;36m  Cell \u001B[1;32mIn[6], line 9\u001B[1;36m\u001B[0m\n\u001B[1;33m    if np.shape(img) == (): # latest numpy / py3\u001B[0m\n\u001B[1;37m    ^\u001B[0m\n\u001B[1;31mIndentationError\u001B[0m\u001B[1;31m:\u001B[0m expected an indented block after 'if' statement on line 6\n"
     ]
    }
   ],
   "source": [
    "img = cv2.imread(r\".\\bildaufnahmen\\grauwertkeil.png\")\n",
    "grauwertkeil = cv2.cvtColor(img, cv2.COLOR_RGB2GRAY)\n",
    "grauwertkeil = grauwertkeil.astype(numpy.float32)\n",
    "\n",
    "\n",
    "\n",
    "# Aufbau der beiden Arrays: alle ungeraden Werte sind Startwerte eines Bereichs,\n",
    "# die geraden die zugehörigen Endwerte\n",
    "topRow = []\n",
    "bottomRow = []\n",
    "\n",
    "# erste Startwerte für oberste und unterste Reihe speichern\n",
    "topRow.append(5)\n",
    "bottomRow.append(5)\n",
    "\n",
    "# topRow füllen\n",
    "i = 80\n",
    "while i < len(grauwertkeil[0]):\n",
    "    if i + 10 < len(grauwertkeil[0]):\n",
    "        if int(grauwertkeil[0][i + 10]) - int(grauwertkeil[0][i]) >= 20:\n",
    "            topRow.append(i)  # Endwert speichern\n",
    "            i += 15\n",
    "            topRow.append(i)  # neuen Startwert speichern\n",
    "    i += 1\n",
    "topRow.append(len(grauwertkeil[0]) - 5)\n",
    "\n",
    "# bottomRow füllen\n",
    "i = 0\n",
    "while i < len(grauwertkeil[len(grauwertkeil) - 1]):\n",
    "    if i + 10 < len(grauwertkeil[len(grauwertkeil) - 1]):\n",
    "        if int(grauwertkeil[len(grauwertkeil) - 1][i + 10]) - int(grauwertkeil[len(grauwertkeil) - 1][i]) >= 20:\n",
    "            bottomRow.append(i)  # Endwert speichern\n",
    "            i += 15\n",
    "            bottomRow.append(i)  # neuen Startwert speichern\n",
    "    i += 1\n",
    "bottomRow.append(len(grauwertkeil[len(grauwertkeil) - 1]) - 5)\n",
    "\n",
    "xValues = []\n",
    "for i in range(len(topRow)):\n",
    "    if i % 2 == 0:\n",
    "        xValues.append(topRow[i] if topRow[i] > bottomRow[i] else bottomRow[i])\n",
    "    else:\n",
    "        xValues.append(topRow[i] if topRow[i] < bottomRow[i] else bottomRow[i])\n",
    "\n",
    "print(\"TopRow:\\n{}\".format(topRow))\n",
    "print(\"BottomRow:\\n{}\".format(bottomRow))\n",
    "print(\"xValues:\\n{}\".format(xValues))\n",
    "\n",
    "ROI_number = 0\n",
    "yTop = 5\n",
    "yBottom = len(grauwertkeil) - 5\n",
    "subPicsMean = []\n",
    "subPicsStd = []\n",
    "i = 0\n",
    "while i < len(xValues):\n",
    "    ROI = grauwertkeil[yTop:yBottom, xValues[i]:xValues[i + 1]]\n",
    "    subPicsMean.append(np.mean(ROI))\n",
    "    subPicsStd.append(np.std(ROI, ddof=1))\n",
    "    cv2.imwrite('SubPic_{}.png'.format(ROI_number), ROI)\n",
    "    ROI_number += 1\n",
    "    i += 2\n",
    "\n",
    "print(\"Mittelwerte SubPics:\\n{}\".format(subPicsMean))\n",
    "print(\"Standardabweichung SubPics:\\n{}\".format(subPicsStd))\n",
    "\n",
    "\n",
    "def bildKontrastMaximiert(img, filename):\n",
    "    imgCorrected = np.zeros(shape=(len(img), len(img[0])))\n",
    "    min = np.min(img)\n",
    "    max = np.max(img)\n",
    "    for i in range(480):\n",
    "        for j in range(640):\n",
    "            imgCorrected[i][j] = img[i][j] - min\n",
    "            if max > min:\n",
    "                imgCorrected[i][j] = imgCorrected[i][j] * (255 / (max - min))\n",
    "            else:\n",
    "                imgCorrected[i][j] = imgCorrected[i][j] * 255\n",
    "\n",
    "    cv2.imwrite('{}.png'.format(filename), imgCorrected)\n",
    "    print(\"{}.png gespeichert\".format(filename))\n",
    "\n",
    "    count = 0\n",
    "    for i in range(len(img)):\n",
    "        for j in range(len(img[0])):\n",
    "            if img[i][j] == imgCorrected[i][j]:\n",
    "                count += 1\n",
    "    print(\"Counter: {}\".format(count))\n",
    "    return imgCorrected"
   ],
   "metadata": {
    "collapsed": false
   }
  }
 ],
 "metadata": {
  "kernelspec": {
   "display_name": "Python 3",
   "language": "python",
   "name": "python3"
  },
  "language_info": {
   "codemirror_mode": {
    "name": "ipython",
    "version": 2
   },
   "file_extension": ".py",
   "mimetype": "text/x-python",
   "name": "python",
   "nbconvert_exporter": "python",
   "pygments_lexer": "ipython2",
   "version": "2.7.6"
  }
 },
 "nbformat": 4,
 "nbformat_minor": 0
}
