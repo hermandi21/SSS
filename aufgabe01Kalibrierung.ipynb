%matplotlib inline
import matplotlib.pyplot as plt
import pandas as pd
from numpy import *
#%%
#Dateinamen definieren
filenames = {'/home/hermandi/Schreibtisch/hochschule/alleProgramme/sss-workspace/venv/Laboraufgabe1'}
#%%
#leere Liste data erstellen um da die .csv-Dateien da rein zu laden
data = []
#%%
#Jetzt die files in die leere Liste laden
for filename in filenames:
    df = pd.read_csv(filename)
    data.append(df)
#%%
#Diagramm erstellen
fig, ax = plt.subplots(figsize=(10, 6))
for i, df in enumerate(data):
    ax.plot(df["Abstand"], df["Spannung"], label=f"Messung {i+1}")
ax.legend()
ax.set_xlabel("Abstand (cm)")
ax.set_ylabel("Spannung (mV)")
plt.show()
